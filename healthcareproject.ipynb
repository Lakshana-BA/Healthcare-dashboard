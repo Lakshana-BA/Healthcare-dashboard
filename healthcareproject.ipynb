{
 "cells": [
  {
   "cell_type": "code",
   "execution_count": null,
   "metadata": {},
   "outputs": [],
   "source": [
    "import openpyxl\n",
    "import pandas as pd\n",
    "import pymysql"
   ]
  },
  {
   "cell_type": "code",
   "execution_count": null,
   "metadata": {},
   "outputs": [
    {
     "name": "stdout",
     "output_type": "stream",
     "text": [
      "      Patient_ID Admit_Date Discharge_Date         Diagnosis Bed_Occupancy  \\\n",
      "0          23571 2022-12-31     2023-01-12  Viral Infection        General   \n",
      "1          27781 2023-01-04     2023-01-12           Typhoid           ICU   \n",
      "2          24413 2023-01-05     2023-01-12          Malaria        General   \n",
      "3          27360 2023-01-05     2023-01-12               Flu       Private   \n",
      "4          26097 2023-01-06     2023-01-12  Viral Infection        General   \n",
      "...          ...        ...            ...               ...           ...   \n",
      "7152       29885 2024-03-03     2024-03-07           Typhoid       Private   \n",
      "7153       26517 2024-03-04     2024-03-07        Pneumonia        Private   \n",
      "7154       28201 2024-03-05     2024-03-07               Flu       General   \n",
      "7155       24833 2024-03-06     2024-03-07           Typhoid       Private   \n",
      "7156       30727 2024-03-06     2024-03-07  Viral Infection        Private   \n",
      "\n",
      "            Test       Doctor Followup Date  Feedback  Billing Amount  \\\n",
      "0            MRI    Jay Sinha    2023-01-20       5.0           13234   \n",
      "1            MRI  Jaya Yaadav    2023-01-16       4.0           12241   \n",
      "2        CT Scan    Jay Sinha    2023-01-15       5.0           35255   \n",
      "3          X-Ray  Jaya Yaadav    2023-01-19       5.0            6582   \n",
      "4     Blood Test  Jaya Yaadav    2023-02-06       4.9            4567   \n",
      "...          ...          ...           ...       ...             ...   \n",
      "7152  Blood Test    Jay Sinha    2024-03-10       5.0            2342   \n",
      "7153     CT Scan  Jaya Yaadav    2024-03-14       5.0           24943   \n",
      "7154  Blood Test    Jay Sinha           NaT       3.5            2343   \n",
      "7155       X-Ray     Mark Joy    2024-03-15       4.9            3475   \n",
      "7156  Ultrasound  Jaya Yaadav    2024-03-11       5.0           66537   \n",
      "\n",
      "      Health Insurance Amount  \n",
      "0                     11910.6  \n",
      "1                     11016.9  \n",
      "2                     31729.5  \n",
      "3                      5923.8  \n",
      "4                      4110.3  \n",
      "...                       ...  \n",
      "7152                   2107.8  \n",
      "7153                  22448.7  \n",
      "7154                   2108.7  \n",
      "7155                   3127.5  \n",
      "7156                  59883.3  \n",
      "\n",
      "[7157 rows x 11 columns]\n"
     ]
    }
   ],
   "source": [
    "path = \"C:/Users/laksh/Desktop/Healthcare/myenv/Healtcare-Dataset.xlsx\"\n",
    "healthcare_df= pd.read_excel(path)\n",
    "print(healthcare_df)"
   ]
  },
  {
   "cell_type": "code",
   "execution_count": 5,
   "metadata": {},
   "outputs": [
    {
     "name": "stdout",
     "output_type": "stream",
     "text": [
      "         Patient_ID                     Admit_Date  \\\n",
      "count   7157.000000                           7157   \n",
      "mean   27149.000000  2023-07-24 09:14:42.772111360   \n",
      "min    23571.000000            2022-12-05 00:00:00   \n",
      "25%    25360.000000            2023-04-03 00:00:00   \n",
      "50%    27149.000000            2023-07-22 00:00:00   \n",
      "75%    28938.000000            2023-11-11 00:00:00   \n",
      "max    30727.000000            2024-03-06 00:00:00   \n",
      "std     2066.192271                            NaN   \n",
      "\n",
      "                      Discharge_Date                  Followup Date  \\\n",
      "count                           7157                           7035   \n",
      "mean   2023-08-01 15:14:27.681989376  2023-08-09 09:35:47.718550272   \n",
      "min              2023-01-12 00:00:00            2023-01-15 00:00:00   \n",
      "25%              2023-04-11 00:00:00            2023-04-21 00:00:00   \n",
      "50%              2023-07-31 00:00:00            2023-08-08 00:00:00   \n",
      "75%              2023-11-20 00:00:00            2023-11-26 00:00:00   \n",
      "max              2024-03-07 00:00:00            2024-03-15 00:00:00   \n",
      "std                              NaN                            NaN   \n",
      "\n",
      "          Feedback  Billing Amount  Health Insurance Amount  \n",
      "count  7157.000000     7157.000000              7157.000000  \n",
      "mean      4.723543    26607.891854             23947.102669  \n",
      "min       3.500000     1223.000000              1100.700000  \n",
      "25%       4.500000     5454.000000              4908.600000  \n",
      "50%       5.000000    12348.000000             11113.200000  \n",
      "75%       5.000000    43522.000000             39169.800000  \n",
      "max       5.000000    95867.000000             86280.300000  \n",
      "std       0.479901    25791.931009             23212.737908  \n"
     ]
    }
   ],
   "source": [
    "print(healthcare_df.describe())"
   ]
  },
  {
   "cell_type": "code",
   "execution_count": 6,
   "metadata": {},
   "outputs": [
    {
     "name": "stdout",
     "output_type": "stream",
     "text": [
      "Patient_ID                   0\n",
      "Admit_Date                   0\n",
      "Discharge_Date               0\n",
      "Diagnosis                    0\n",
      "Bed_Occupancy                0\n",
      "Test                         0\n",
      "Doctor                       0\n",
      "Followup Date              122\n",
      "Feedback                     0\n",
      "Billing Amount               0\n",
      "Health Insurance Amount      0\n",
      "dtype: int64\n"
     ]
    }
   ],
   "source": [
    "print(healthcare_df.isnull().sum())"
   ]
  },
  {
   "cell_type": "code",
   "execution_count": 7,
   "metadata": {},
   "outputs": [
    {
     "name": "stdout",
     "output_type": "stream",
     "text": [
      "<class 'pandas.core.frame.DataFrame'>\n",
      "RangeIndex: 7157 entries, 0 to 7156\n",
      "Data columns (total 11 columns):\n",
      " #   Column                   Non-Null Count  Dtype         \n",
      "---  ------                   --------------  -----         \n",
      " 0   Patient_ID               7157 non-null   int64         \n",
      " 1   Admit_Date               7157 non-null   datetime64[ns]\n",
      " 2   Discharge_Date           7157 non-null   datetime64[ns]\n",
      " 3   Diagnosis                7157 non-null   object        \n",
      " 4   Bed_Occupancy            7157 non-null   object        \n",
      " 5   Test                     7157 non-null   object        \n",
      " 6   Doctor                   7157 non-null   object        \n",
      " 7   Followup Date            7035 non-null   datetime64[ns]\n",
      " 8   Feedback                 7157 non-null   float64       \n",
      " 9   Billing Amount           7157 non-null   int64         \n",
      " 10  Health Insurance Amount  7157 non-null   float64       \n",
      "dtypes: datetime64[ns](3), float64(2), int64(2), object(4)\n",
      "memory usage: 615.2+ KB\n",
      "None\n"
     ]
    }
   ],
   "source": [
    "print(healthcare_df.info())"
   ]
  },
  {
   "cell_type": "code",
   "execution_count": 8,
   "metadata": {},
   "outputs": [
    {
     "name": "stdout",
     "output_type": "stream",
     "text": [
      "\n",
      "DataFrame after removing null values:\n",
      "      Patient_ID Admit_Date Discharge_Date         Diagnosis Bed_Occupancy  \\\n",
      "0          23571 2022-12-31     2023-01-12  Viral Infection        General   \n",
      "1          27781 2023-01-04     2023-01-12           Typhoid           ICU   \n",
      "2          24413 2023-01-05     2023-01-12          Malaria        General   \n",
      "3          27360 2023-01-05     2023-01-12               Flu       Private   \n",
      "4          26097 2023-01-06     2023-01-12  Viral Infection        General   \n",
      "...          ...        ...            ...               ...           ...   \n",
      "7151       28622 2024-03-02     2024-03-07               Flu       General   \n",
      "7152       29885 2024-03-03     2024-03-07           Typhoid       Private   \n",
      "7153       26517 2024-03-04     2024-03-07        Pneumonia        Private   \n",
      "7155       24833 2024-03-06     2024-03-07           Typhoid       Private   \n",
      "7156       30727 2024-03-06     2024-03-07  Viral Infection        Private   \n",
      "\n",
      "            Test       Doctor Followup Date  Feedback  Billing Amount  \\\n",
      "0            MRI    Jay Sinha    2023-01-20       5.0           13234   \n",
      "1            MRI  Jaya Yaadav    2023-01-16       4.0           12241   \n",
      "2        CT Scan    Jay Sinha    2023-01-15       5.0           35255   \n",
      "3          X-Ray  Jaya Yaadav    2023-01-19       5.0            6582   \n",
      "4     Blood Test  Jaya Yaadav    2023-02-06       4.9            4567   \n",
      "...          ...          ...           ...       ...             ...   \n",
      "7151       X-Ray       Ravi D    2024-03-11       4.0            6784   \n",
      "7152  Blood Test    Jay Sinha    2024-03-10       5.0            2342   \n",
      "7153     CT Scan  Jaya Yaadav    2024-03-14       5.0           24943   \n",
      "7155       X-Ray     Mark Joy    2024-03-15       4.9            3475   \n",
      "7156  Ultrasound  Jaya Yaadav    2024-03-11       5.0           66537   \n",
      "\n",
      "      Health Insurance Amount  \n",
      "0                     11910.6  \n",
      "1                     11016.9  \n",
      "2                     31729.5  \n",
      "3                      5923.8  \n",
      "4                      4110.3  \n",
      "...                       ...  \n",
      "7151                   6105.6  \n",
      "7152                   2107.8  \n",
      "7153                  22448.7  \n",
      "7155                   3127.5  \n",
      "7156                  59883.3  \n",
      "\n",
      "[7035 rows x 11 columns]\n"
     ]
    }
   ],
   "source": [
    "# Remove rows where 'Followup Date' column has null values\n",
    "healthcare_df_cleaned = healthcare_df[healthcare_df['Followup Date'].notnull()]\n",
    "\n",
    "print(\"\\nDataFrame after removing null values:\")\n",
    "print(healthcare_df_cleaned)"
   ]
  },
  {
   "cell_type": "code",
   "execution_count": 10,
   "metadata": {},
   "outputs": [
    {
     "data": {
      "text/plain": [
       "<pymysql.connections.Connection at 0x1945962fa40>"
      ]
     },
     "execution_count": 10,
     "metadata": {},
     "output_type": "execute_result"
    }
   ],
   "source": [
    "import pymysql\n",
    "mydb=pymysql.connect(\n",
    "    host=\"localhost\",\n",
    "    user=\"root\",\n",
    "    password=\"LT2408\",\n",
    "    port=3306\n",
    ")\n",
    "mydb"
   ]
  },
  {
   "cell_type": "code",
   "execution_count": 11,
   "metadata": {},
   "outputs": [
    {
     "data": {
      "text/plain": [
       "<pymysql.cursors.Cursor at 0x1945962cc80>"
      ]
     },
     "execution_count": 11,
     "metadata": {},
     "output_type": "execute_result"
    }
   ],
   "source": [
    "mycursor=mydb.cursor()\n",
    "mycursor"
   ]
  },
  {
   "cell_type": "code",
   "execution_count": 12,
   "metadata": {},
   "outputs": [
    {
     "name": "stdout",
     "output_type": "stream",
     "text": [
      "('healthcare',)\n",
      "('information_schema',)\n",
      "('mysql',)\n",
      "('performance_schema',)\n",
      "('sakila',)\n",
      "('sales',)\n",
      "('sys',)\n",
      "('world',)\n"
     ]
    }
   ],
   "source": [
    "mycursor.execute('SHOW DATABASES')\n",
    "for i in mycursor:\n",
    "    print(i)"
   ]
  },
  {
   "cell_type": "code",
   "execution_count": 13,
   "metadata": {},
   "outputs": [
    {
     "name": "stdout",
     "output_type": "stream",
     "text": [
      "Data inserted successfully!\n"
     ]
    }
   ],
   "source": [
    "import pandas as pd\n",
    "from sqlalchemy import create_engine\n",
    "\n",
    "# Database connection \n",
    "db_username = \"root\"\n",
    "db_password = \"LT2408\"\n",
    "db_host = \"localhost\"\n",
    "db_name = \"healthcare\"\n",
    "\n",
    "# Create an engine \n",
    "engine = create_engine(f\"mysql+pymysql://{db_username}:{db_password}@{db_host}/{db_name}\")\n",
    "\n",
    "# Convert datetime columns to proper format\n",
    "healthcare_df[\"Admit_Date\"] = pd.to_datetime(healthcare_df[\"Admit_Date\"])\n",
    "healthcare_df[\"Discharge_Date\"] = pd.to_datetime(healthcare_df[\"Discharge_Date\"])\n",
    "healthcare_df[\"Followup Date\"] = pd.to_datetime(healthcare_df[\"Followup Date\"])\n",
    "\n",
    "# Insert DataFrame into SQL Table.to_sql(name=\"patient_data\", con=engine, if_exists=\"append\", index=False)\n",
    "\n",
    "# Insert DataFrame into SQL Table\n",
    "healthcare_df.to_sql(name=\"patient_data\", con=engine, if_exists=\"append\", index=False)\n",
    "\n",
    "print(\"Data inserted successfully!\")\n"
   ]
  }
 ],
 "metadata": {
  "kernelspec": {
   "display_name": "myenv",
   "language": "python",
   "name": "python3"
  },
  "language_info": {
   "codemirror_mode": {
    "name": "ipython",
    "version": 3
   },
   "file_extension": ".py",
   "mimetype": "text/x-python",
   "name": "python",
   "nbconvert_exporter": "python",
   "pygments_lexer": "ipython3",
   "version": "3.13.1"
  }
 },
 "nbformat": 4,
 "nbformat_minor": 2
}
